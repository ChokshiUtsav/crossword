{
 "cells": [
  {
   "cell_type": "code",
   "execution_count": 2,
   "metadata": {},
   "outputs": [],
   "source": [
    "import re"
   ]
  },
  {
   "cell_type": "code",
   "execution_count": 16,
   "metadata": {},
   "outputs": [
    {
     "data": {
      "text/plain": [
       "b'\\\\u0aa4\\\\u0acd\\\\u0ab0'"
      ]
     },
     "execution_count": 16,
     "metadata": {},
     "output_type": "execute_result"
    }
   ],
   "source": [
    "s=\"ત્ર\"\n",
    "s.encode(\"unicode_escape\")"
   ]
  },
  {
   "cell_type": "code",
   "execution_count": 5,
   "metadata": {},
   "outputs": [],
   "source": [
    "signs = [u'\\u0abe',\n",
    "u'\\u0abf',\n",
    "u'\\u0ac0', \n",
    "u'\\u0ac1', \n",
    "u'\\u0ac2', \n",
    "u'\\u0ac3', \n",
    "u'\\u0ac4', \n",
    "u'\\u0ac5',\n",
    "u'\\u0ac7', \n",
    "u'\\u0ac8', \n",
    "u'\\u0ac9',\n",
    "u'\\u0acb',\n",
    "u'\\u0acc',\n",
    "u'\\u0a81',\n",
    "u'\\u0a82',\n",
    "u'\\u0a83'] "
   ]
  },
  {
   "cell_type": "code",
   "execution_count": 6,
   "metadata": {},
   "outputs": [],
   "source": [
    "limiters = ['\\\"', '\\'', '`', '!', ';', ', ', '?']"
   ]
  },
  {
   "cell_type": "code",
   "execution_count": 3,
   "metadata": {},
   "outputs": [],
   "source": [
    "def syllabify_gu(text):\n",
    "        signs = [u'\\u0abe',\n",
    "                u'\\u0abf',\n",
    "                u'\\u0ac0', \n",
    "                u'\\u0ac1', \n",
    "                u'\\u0ac2', \n",
    "                u'\\u0ac3', \n",
    "                u'\\u0ac4', \n",
    "                u'\\u0ac5',\n",
    "                u'\\u0ac7', \n",
    "                u'\\u0ac8', \n",
    "                u'\\u0ac9',\n",
    "                u'\\u0acb',\n",
    "                u'\\u0acc',\n",
    "                u'\\u0a81',\n",
    "                u'\\u0a82',\n",
    "                u'\\u0a83',\n",
    "                u'\\u0acd'] \n",
    "        limiters = ['\\\"', '\\'', '`', '!', ';', ', ', '?', '.']\n",
    "        \n",
    "        lst_chars = []\n",
    "        for char in text:\n",
    "            if char in limiters:\n",
    "                lst_chars.append(char)\n",
    "            elif char in signs:\n",
    "                lst_chars[-1] = lst_chars[-1] + char\n",
    "            else:\n",
    "                try:\n",
    "                    if char == u'\\u0ab0' and len(lst_chars) > 0 and lst_chars[-1][-1] == u'\\u0acd' and lst_chars[-1][-2] == u'\\u0aa4': \n",
    "                        lst_chars[-1] = lst_chars[-1] + char\n",
    "                    else:\n",
    "                        lst_chars.append(char)\n",
    "                except IndexError:\n",
    "                    lst_chars.append(char)\n",
    "\n",
    "        return lst_chars\n"
   ]
  },
  {
   "cell_type": "code",
   "execution_count": 27,
   "metadata": {},
   "outputs": [
    {
     "data": {
      "text/plain": [
       "['સં',\n",
       " 'ગી',\n",
       " 'ત',\n",
       " ' ',\n",
       " 'એ',\n",
       " ' ',\n",
       " 'એ',\n",
       " 'વું',\n",
       " ' ',\n",
       " 'પ',\n",
       " 'વિ',\n",
       " 'ત્ર',\n",
       " ' ',\n",
       " 'ઝ',\n",
       " 'ર',\n",
       " 'ણું',\n",
       " ' ',\n",
       " 'છે',\n",
       " ',',\n",
       " ' ',\n",
       " 'જે',\n",
       " 'નાં',\n",
       " ' ',\n",
       " 'વ',\n",
       " 'હે',\n",
       " 'તા',\n",
       " ' ',\n",
       " 'ત',\n",
       " 'રં',\n",
       " 'ગો',\n",
       " 'થી',\n",
       " ' ',\n",
       " 'અં',\n",
       " 'ત',\n",
       " 'ર',\n",
       " 'નાં',\n",
       " ' ',\n",
       " 'તા',\n",
       " 'ર',\n",
       " ' ',\n",
       " 'ર',\n",
       " 'ણ',\n",
       " 'ઝ',\n",
       " 'ણી',\n",
       " ' ',\n",
       " 'ઉ',\n",
       " 'ઠે',\n",
       " ' ',\n",
       " 'છે',\n",
       " '.']"
      ]
     },
     "execution_count": 27,
     "metadata": {},
     "output_type": "execute_result"
    }
   ],
   "source": [
    "syllabify_gu(\"સંગીત એ એવું પવિત્ર ઝરણું છે, જેનાં વહેતા તરંગોથી અંતરનાં તાર રણઝણી ઉઠે છે.\")"
   ]
  },
  {
   "cell_type": "code",
   "execution_count": 7,
   "metadata": {},
   "outputs": [
    {
     "name": "stdout",
     "output_type": "stream",
     "text": [
      "[['વિ', 'વે', 'કા', 'નં', 'દ'], ['ત', 'ડ', 'બૂ', 'ચ'], ['બ', 'બૂ', 'ચ', 'ક'], ['ઉ', 'તા', 'વ', 'ળ'], ['લા', 'પ', 'સી'], ['આ', 'નં', 'દી'], ['સ્', 'કૂ', 'ટી'], ['લા', 'લ'], ['વ', 'ડા'], ['ટી']]\n"
     ]
    }
   ],
   "source": [
    "cw_words = [\"લાપસી\", \"તડબૂચ\", \"બબૂચક\", \"લાલ\", \"વિવેકાનંદ\", \"આનંદી\", \"ટી\", \"સ્કૂટી\", \"વડા\", \"ઉતાવળ\"]\n",
    "cw_syllable_words = []\n",
    "for word in cw_words:\n",
    "    cw_syllable_words.append(syllabify_gu(word))\n",
    "cw_syllable_words.sort(key=len, reverse=True)\n",
    "print(cw_syllable_words)"
   ]
  },
  {
   "cell_type": "code",
   "execution_count": 11,
   "metadata": {},
   "outputs": [
    {
     "data": {
      "text/plain": [
       "[(2, 1), (3, 2)]"
      ]
     },
     "execution_count": 11,
     "metadata": {},
     "output_type": "execute_result"
    }
   ],
   "source": [
    "def find_intersection(word1, word2):\n",
    "    intersections = []\n",
    "    count1, count2 = 0, 0\n",
    "    for c1 in word1:\n",
    "        count2 = 0\n",
    "        for c2 in word2:\n",
    "            if c1 == c2:\n",
    "                intersections.append((count1, count2))\n",
    "            count2 = count2 + 1\n",
    "        count1 = count1 + 1\n",
    "    return intersections"
   ]
  },
  {
   "cell_type": "code",
   "execution_count": 19,
   "metadata": {},
   "outputs": [
    {
     "name": "stdout",
     "output_type": "stream",
     "text": [
      "[[0, 0, 0, 0, 0, 0, 0, 0], [0, 0, 0, 0, 0, 0, 0, 0], [0, 0, 0, 0, 0, 0, 0, 0], [0, 0, 0, 0, 0, 0, 0, 0], [0, 0, 0, 0, 0, 0, 0, 0], [0, 0, 0, 0, 0, 0, 0, 0], [0, 0, 0, 0, 0, 0, 0, 0], [0, 0, 0, 0, 0, 0, 0, 0]]\n"
     ]
    }
   ],
   "source": [
    "hor_bucket = dict()\n",
    "vert_bucket = dict()\n",
    "w, h = 8, 8 \n",
    "cross_word = [[0 for x in range(w)] for y in range(h)] \n",
    "print(cross_word)"
   ]
  },
  {
   "cell_type": "code",
   "execution_count": 22,
   "metadata": {},
   "outputs": [],
   "source": [
    "def can_be_marked(matrix, dir, row, col, length):\n",
    "    if col < 0 or row < 0:\n",
    "        return False\n",
    "    if dir == 'h':\n",
    "        if col + length >= len(matrix[0]):\n",
    "            return False\n",
    "        count = col\n",
    "        while count-col < length:\n",
    "            if matrix[row][count] == 1:\n",
    "                return False\n",
    "            count = count+1\n",
    "    else:\n",
    "        if row + length >= len(matrix):\n",
    "            return False\n",
    "        count = row\n",
    "        while count-row < length:\n",
    "            if matrix[count][col] == 1:\n",
    "                return False\n",
    "            count = count+1\n",
    "    return True\n",
    "\n",
    "def mark_filled(matrix, dir, row, col, length):\n",
    "    if dir == 'h':\n",
    "        count = col\n",
    "        while count-col < length:\n",
    "            matrix[row][count] = 1\n",
    "            count = count+1\n",
    "    else :\n",
    "        count = row\n",
    "        while count-row < length:\n",
    "            matrix[count][col] = 1\n",
    "            count = count+1\n",
    "    return matrix\n",
    "\n",
    "def find_empty_cords(matrix, dir, length):\n",
    "    rows = len(matrix)\n",
    "    cols = len(matrix[0])\n",
    "    if dir == 'h':\n",
    "        for r in range(rows):\n",
    "            for c in range(cols-length+1):\n",
    "                Found = True\n",
    "                for count in range(length):\n",
    "                    if matrix[r][c+count] == 1:\n",
    "                        Found = False\n",
    "                        break\n",
    "                if Found == True:\n",
    "                    return (r,c)\n",
    "    else:\n",
    "        for c in range(cols):\n",
    "            for r in range(rows-length+1):\n",
    "                Found = True\n",
    "                for count in range(length):\n",
    "                    if matrix[r+count][c] == 1:\n",
    "                        Found = False\n",
    "                        break\n",
    "                if Found == True:\n",
    "                    return (r,c)\n",
    "    return (-1,-1)"
   ]
  },
  {
   "cell_type": "code",
   "execution_count": 33,
   "metadata": {},
   "outputs": [
    {
     "name": "stdout",
     "output_type": "stream",
     "text": [
      "[['વિ', 'વે', 'કા', 'નં', 'દ'], ['ત', 'ડ', 'બૂ', 'ચ'], ['બ', 'બૂ', 'ચ', 'ક'], ['ઉ', 'તા', 'વ', 'ળ'], ['લા', 'પ', 'સી'], ['આ', 'નં', 'દી'], ['સ્', 'કૂ', 'ટી'], ['લા', 'લ'], ['વ', 'ડા'], ['ટી']]\n",
      "{(4, 0): ['વિ', 'વે', 'કા', 'નં', 'દ'], (0, 1): ['બ', 'બૂ', 'ચ', 'ક'], (1, 1): ['લા', 'પ', 'સી'], (2, 1): ['સ્', 'કૂ', 'ટી'], (0, 6): ['વ', 'ડા']}\n",
      "{(0, 0): ['ત', 'ડ', 'બૂ', 'ચ'], (0, 5): ['ઉ', 'તા', 'વ', 'ળ'], (5, 0): ['આ', 'નં', 'દી'], (5, 1): ['લા', 'લ'], (3, 1): ['ટી']}\n",
      "[[1, 1, 1, 1, 1, 1, 1, 1], [1, 1, 1, 1, 0, 1, 0, 0], [1, 1, 1, 1, 0, 1, 0, 0], [1, 1, 0, 0, 0, 1, 0, 0], [1, 1, 1, 1, 1, 0, 0, 0], [1, 1, 0, 0, 0, 0, 0, 0], [1, 1, 0, 0, 0, 0, 0, 0], [1, 0, 0, 0, 0, 0, 0, 0]]\n"
     ]
    }
   ],
   "source": [
    "cw_words = [\"લાપસી\", \"તડબૂચ\", \"બબૂચક\", \"લાલ\", \"વિવેકાનંદ\", \"આનંદી\", \"ટી\", \"સ્કૂટી\", \"વડા\", \"ઉતાવળ\"]\n",
    "cw_syllable_words = []\n",
    "for word in cw_words:\n",
    "    cw_syllable_words.append(syllabify_gu(word))\n",
    "cw_syllable_words.sort(key=len, reverse=True)\n",
    "print(cw_syllable_words)\n",
    "hor_bucket = dict()\n",
    "vert_bucket = dict()\n",
    "w, h = 8, 8 \n",
    "cross_word = [[0 for x in range(w)] for y in range(h)]\n",
    "hor_bucket[(4,0)] = cw_syllable_words[0]\n",
    "dir = 'h'\n",
    "cross_word = mark_filled(cross_word, dir, 4, 0, len(cw_syllable_words[0]))\n",
    "cw_syllable_words = cw_syllable_words[1:]\n",
    "dir = 'v'\n",
    "\n",
    "for word2 in cw_syllable_words:\n",
    "    if dir == 'h':\n",
    "        intersection_found = False\n",
    "        for key in vert_bucket:\n",
    "            word1 = vert_bucket[key]\n",
    "            coords1 = key\n",
    "            intersections = find_intersection(word1, word2)\n",
    "            for iss in intersections:\n",
    "                row = coords1[0] + iss[0]\n",
    "                col = coords1[1] - iss[1]\n",
    "                if can_be_marked(cross_word, dir, row, col, len(word2)):\n",
    "                    cross_word = mark_filled(cross_word, dir, row, col, len(word2))\n",
    "                    intersection_found = True\n",
    "                    hor_bucket[(row, col)] = word2\n",
    "                    break\n",
    "            if intersection_found :\n",
    "                break\n",
    "        if not intersection_found :\n",
    "            coords2 = find_empty_cords(cross_word, dir, len(word2))\n",
    "            if coords2[0] != -1  and coords2[1] != -1:\n",
    "                cross_word = mark_filled(cross_word, dir, coords2[0], coords2[1], len(word2))\n",
    "                hor_bucket[coords2] = word2\n",
    "            else:\n",
    "                print(\"Crossword not possible\")\n",
    "                break\n",
    "        dir = 'v'\n",
    "    else:\n",
    "        intersection_found = False\n",
    "        for key in hor_bucket:\n",
    "            word1 = hor_bucket[key]\n",
    "            coords1 = key\n",
    "            intersections = find_intersection(word1, word2)\n",
    "            for iss in intersections:\n",
    "                row = coords1[0] - iss[0]\n",
    "                col = coords1[1] + iss[1]\n",
    "                if can_be_marked(cross_word, dir, row, col, len(word2)):\n",
    "                    cross_word = mark_filled(cross_word, dir, row, col, len(word2))\n",
    "                    intersection_found = True\n",
    "                    vert_bucket[(row, col)] = word2\n",
    "                    break\n",
    "            if intersection_found :\n",
    "                break\n",
    "        if not intersection_found :\n",
    "            coords2 = find_empty_cords(cross_word, dir, len(word2))\n",
    "            if coords2[0] != -1  and coords2[1] != -1:\n",
    "                cross_word = mark_filled(cross_word, dir, coords2[0], coords2[1], len(word2))\n",
    "                vert_bucket[coords2] = word2\n",
    "            else:\n",
    "                print(\"Crossword not possible\")\n",
    "                break\n",
    "        dir = 'h'\n",
    "\n",
    "print(hor_bucket)\n",
    "print(vert_bucket)\n",
    "print(cross_word)"
   ]
  },
  {
   "cell_type": "code",
   "execution_count": 21,
   "metadata": {},
   "outputs": [
    {
     "name": "stdout",
     "output_type": "stream",
     "text": [
      "[[0, 0, 0, 0, 0, 0, 0, 0], [0, 0, 0, 0, 0, 0, 0, 0], [0, 0, 0, 0, 0, 0, 0, 0], [0, 0, 0, 0, 0, 0, 0, 0], [1, 1, 1, 1, 1, 0, 0, 0], [0, 0, 0, 0, 0, 0, 0, 0], [0, 0, 0, 0, 0, 0, 0, 0], [0, 0, 0, 0, 0, 0, 0, 0]]\n"
     ]
    }
   ],
   "source": [
    "hor_bucket[(4,0)] = cw_syllable_words[0]\n",
    "dir = 'h'\n",
    "cross_word = mark_filled(cross_word, dir, 4, 0, len(cw_syllable_words[0]))"
   ]
  },
  {
   "cell_type": "code",
   "execution_count": null,
   "metadata": {},
   "outputs": [],
   "source": []
  }
 ],
 "metadata": {
  "kernelspec": {
   "display_name": "Python 3",
   "language": "python",
   "name": "python3"
  },
  "language_info": {
   "codemirror_mode": {
    "name": "ipython",
    "version": 3
   },
   "file_extension": ".py",
   "mimetype": "text/x-python",
   "name": "python",
   "nbconvert_exporter": "python",
   "pygments_lexer": "ipython3",
   "version": "3.6.1"
  }
 },
 "nbformat": 4,
 "nbformat_minor": 2
}
